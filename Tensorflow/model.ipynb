{
 "cells": [
  {
   "cell_type": "code",
   "execution_count": 2,
   "id": "83f76543-a175-4287-9444-8271cb86045b",
   "metadata": {},
   "outputs": [
    {
     "name": "stderr",
     "output_type": "stream",
     "text": [
      "/Users/ajayvikram/MachineLearning/venv/lib/python3.10/site-packages/tensorflow_addons/utils/tfa_eol_msg.py:23: UserWarning: \n",
      "\n",
      "TensorFlow Addons (TFA) has ended development and introduction of new features.\n",
      "TFA has entered a minimal maintenance and release mode until a planned end of life in May 2024.\n",
      "Please modify downstream libraries to take dependencies from other repositories in our TensorFlow community (e.g. Keras, Keras-CV, and Keras-NLP). \n",
      "\n",
      "For more information see: https://github.com/tensorflow/addons/issues/2807 \n",
      "\n",
      "  warnings.warn(\n"
     ]
    }
   ],
   "source": [
    "import os\n",
    "os.environ[\"TF_CPP_MIN_LOG_LEVEL\"] = \"2\"\n",
    "import tensorflow as tf\n",
    "import tensorflow_datasets as tfds\n",
    "import tensorflow_addons as tfa\n",
    "import math\n",
    "from tensorflow.keras import layers\n",
    "from tensorflow import keras"
   ]
  },
  {
   "cell_type": "code",
   "execution_count": 3,
   "id": "5199fa83-b8aa-4409-b0dc-f0e179f4fb91",
   "metadata": {},
   "outputs": [],
   "source": [
    "physical_devices = tf.config.list_physical_devices(\"GPU\")\n",
    "tf.config.experimental.set_memory_growth(physical_devices[0], True)"
   ]
  },
  {
   "cell_type": "code",
   "execution_count": 5,
   "id": "35ab707b-f3c1-48da-ade1-972f9e039880",
   "metadata": {},
   "outputs": [],
   "source": [
    "(ds_train, ds_test), ds_info  = tfds.load(\n",
    "    \"mnist\",\n",
    "    split=[\"train\", \"test\"],\n",
    "    shuffle_files=False,\n",
    "    as_supervised=True,\n",
    "    with_info=True \n",
    ")\n",
    "\n",
    "@tf.function\n",
    "def normalize_img(image, label):\n",
    "    return tf.cast(image, tf.float32) / 255.0, label\n",
    "\n",
    "@tf.function\n",
    "def rotate(img, max_degrees=25):\n",
    "    degrees = tf.random.uniform([], -max_degrees, max_degrees, dtype=tf.float32)\n",
    "    img = tfa.image.rotate(img, degrees*math.pi/180, interpolation=\"BILINEAR\")\n",
    "    return img\n",
    "\n",
    "@tf.function\n",
    "def augment(image, label):\n",
    "    image = tf.image.resize(image, size=[28, 28])\n",
    "    image = rotate(image)\n",
    "\n",
    "    # random coloring of image\n",
    "    image =tf.image.random_brightness(image, max_delta=0.2)\n",
    "    image = tf.image.random_contrast(image, lower=0.5, upper=1.5)\n",
    "\n",
    "    return image, label\n",
    "\n",
    "\n",
    "AUTOTUNE = tf.data.experimental.AUTOTUNE\n",
    "BATCH_SIZE = 32\n",
    "\n",
    "ds_train = ds_train.cache()\n",
    "ds_train = ds_train.shuffle(ds_info.splits[\"train\"].num_examples)\n",
    "ds_train = ds_train.map(normalize_img, num_parallel_calls=AUTOTUNE)\n",
    "ds_train = ds_train.map(augment, num_parallel_calls=AUTOTUNE)\n",
    "ds_train = ds_train.batch(BATCH_SIZE)\n",
    "ds_train = ds_train.prefetch(AUTOTUNE)\n",
    "\n",
    "ds_test = ds_test.map(normalize_img, num_parallel_calls=AUTOTUNE)\n",
    "ds_test = ds_test.batch(BATCH_SIZE)\n",
    "ds_test = ds_test.prefetch(AUTOTUNE)\n",
    "\n",
    "def my_model():\n",
    "    inputs = keras.Input(shape=(28, 28, 1))\n",
    "    x = layers.Conv2D(32, 3)(inputs)\n",
    "    x = layers.BatchNormalization()(x)\n",
    "    x = keras.activations.relu(x)\n",
    "    x = layers.MaxPooling2D()(x)\n",
    "    x = layers.Conv2D(64, 3)(inputs)\n",
    "    x = layers.BatchNormalization()(x)\n",
    "    x = keras.activations.relu(x)\n",
    "    x = layers.MaxPooling2D()(x)\n",
    "    x = layers.Conv2D(128, 3)(inputs)\n",
    "    x = layers.BatchNormalization()(x)\n",
    "    x = keras.activations.relu(x)\n",
    "    x = layers.Flatten()(x)\n",
    "    outputs = layers.Dense(64, activation=\"softmax\")(x)\n",
    "    return keras.Model(inputs=inputs, outputs=outputs)"
   ]
  },
  {
   "cell_type": "code",
   "execution_count": 8,
   "id": "fb86e8fe-cd2d-4535-8838-acfa04b99181",
   "metadata": {},
   "outputs": [],
   "source": [
    "model = my_model()\n",
    "model.compile(\n",
    "    loss = keras.losses.SparseCategoricalCrossentropy(from_logits=False),\n",
    "    optimizer = keras.optimizers.legacy.Adam(learning_rate=1e-4),\n",
    "    metrics = [\"accuracy\"],\n",
    ")"
   ]
  },
  {
   "cell_type": "code",
   "execution_count": 10,
   "id": "0b57cde9-ee38-49ce-9d63-c2780a266636",
   "metadata": {},
   "outputs": [
    {
     "name": "stdout",
     "output_type": "stream",
     "text": [
      "Epoch 1/30\n",
      "1875/1875 [==============================] - 65s 35ms/step - loss: 0.1983 - accuracy: 0.9444\n",
      "Epoch 2/30\n",
      "1875/1875 [==============================] - 67s 36ms/step - loss: 0.1560 - accuracy: 0.9573\n",
      "Epoch 3/30\n",
      "1875/1875 [==============================] - 67s 36ms/step - loss: 0.1326 - accuracy: 0.9628\n",
      "Epoch 4/30\n",
      "1875/1875 [==============================] - 68s 36ms/step - loss: 0.1273 - accuracy: 0.9656\n",
      "Epoch 5/30\n",
      "1875/1875 [==============================] - 67s 36ms/step - loss: 0.1151 - accuracy: 0.9685\n",
      "Epoch 6/30\n",
      "1875/1875 [==============================] - 69s 37ms/step - loss: 0.1042 - accuracy: 0.9711\n",
      "Epoch 7/30\n",
      "1875/1875 [==============================] - 70s 37ms/step - loss: 0.1045 - accuracy: 0.9709\n",
      "Epoch 8/30\n",
      "1875/1875 [==============================] - 70s 37ms/step - loss: 0.1002 - accuracy: 0.9726\n",
      "Epoch 9/30\n",
      "1875/1875 [==============================] - 67s 36ms/step - loss: 0.0934 - accuracy: 0.9751\n",
      "Epoch 10/30\n",
      "1875/1875 [==============================] - 66s 35ms/step - loss: 0.0945 - accuracy: 0.9743\n",
      "Epoch 11/30\n",
      "1875/1875 [==============================] - 67s 36ms/step - loss: 0.0882 - accuracy: 0.9759\n",
      "Epoch 12/30\n",
      "1875/1875 [==============================] - 67s 36ms/step - loss: 0.0855 - accuracy: 0.9765\n",
      "Epoch 13/30\n",
      "1875/1875 [==============================] - 66s 35ms/step - loss: 0.0829 - accuracy: 0.9774\n",
      "Epoch 14/30\n",
      "1875/1875 [==============================] - 66s 35ms/step - loss: 0.0767 - accuracy: 0.9792\n",
      "Epoch 15/30\n",
      "1875/1875 [==============================] - 67s 36ms/step - loss: 0.0767 - accuracy: 0.9798\n",
      "Epoch 16/30\n",
      "1875/1875 [==============================] - 66s 35ms/step - loss: 0.0740 - accuracy: 0.9800\n",
      "Epoch 17/30\n",
      "1875/1875 [==============================] - 66s 35ms/step - loss: 0.0722 - accuracy: 0.9803\n",
      "Epoch 18/30\n",
      "1875/1875 [==============================] - 67s 36ms/step - loss: 0.0703 - accuracy: 0.9806\n",
      "Epoch 19/30\n",
      "1875/1875 [==============================] - 67s 36ms/step - loss: 0.0664 - accuracy: 0.9818\n",
      "Epoch 20/30\n",
      "1875/1875 [==============================] - 69s 37ms/step - loss: 0.0672 - accuracy: 0.9806\n",
      "Epoch 21/30\n",
      "1875/1875 [==============================] - 67s 36ms/step - loss: 0.0653 - accuracy: 0.9820\n",
      "Epoch 22/30\n",
      "1875/1875 [==============================] - 66s 35ms/step - loss: 0.0627 - accuracy: 0.9829\n",
      "Epoch 23/30\n",
      "1875/1875 [==============================] - 66s 35ms/step - loss: 0.0651 - accuracy: 0.9820\n",
      "Epoch 24/30\n",
      "1875/1875 [==============================] - 65s 35ms/step - loss: 0.0614 - accuracy: 0.9831\n",
      "Epoch 25/30\n",
      "1875/1875 [==============================] - 66s 35ms/step - loss: 0.0622 - accuracy: 0.9833\n",
      "Epoch 26/30\n",
      "1875/1875 [==============================] - 66s 35ms/step - loss: 0.0607 - accuracy: 0.9839\n",
      "Epoch 27/30\n",
      "1875/1875 [==============================] - 67s 36ms/step - loss: 0.0581 - accuracy: 0.9845\n",
      "Epoch 28/30\n",
      "1875/1875 [==============================] - 68s 36ms/step - loss: 0.0587 - accuracy: 0.9844\n",
      "Epoch 29/30\n",
      "1875/1875 [==============================] - 69s 37ms/step - loss: 0.0555 - accuracy: 0.9849\n",
      "Epoch 30/30\n",
      "1875/1875 [==============================] - 70s 38ms/step - loss: 0.0512 - accuracy: 0.9856\n"
     ]
    },
    {
     "data": {
      "text/plain": [
       "<keras.src.callbacks.History at 0x17cae6a70>"
      ]
     },
     "execution_count": 10,
     "metadata": {},
     "output_type": "execute_result"
    }
   ],
   "source": [
    "model.fit(ds_train, epochs=30, verbose=1)"
   ]
  },
  {
   "cell_type": "code",
   "execution_count": 11,
   "id": "8e760ed0-89fb-48f9-adea-373aa676e8d8",
   "metadata": {},
   "outputs": [
    {
     "name": "stdout",
     "output_type": "stream",
     "text": [
      "313/313 [==============================] - 8s 25ms/step - loss: 0.0711 - accuracy: 0.9804\n"
     ]
    },
    {
     "data": {
      "text/plain": [
       "[0.07114478200674057, 0.980400025844574]"
      ]
     },
     "execution_count": 11,
     "metadata": {},
     "output_type": "execute_result"
    }
   ],
   "source": [
    "model.evaluate(ds_test)"
   ]
  },
  {
   "cell_type": "code",
   "execution_count": 12,
   "id": "60d90062-f6d4-4631-a86f-4e7190569591",
   "metadata": {},
   "outputs": [
    {
     "name": "stdout",
     "output_type": "stream",
     "text": [
      "INFO:tensorflow:Assets written to: model/assets\n"
     ]
    },
    {
     "name": "stderr",
     "output_type": "stream",
     "text": [
      "INFO:tensorflow:Assets written to: model/assets\n"
     ]
    }
   ],
   "source": [
    "model.save(\"model\")"
   ]
  },
  {
   "cell_type": "code",
   "execution_count": 13,
   "id": "c342b780-d91a-45b7-b2e7-0036c602f689",
   "metadata": {},
   "outputs": [],
   "source": [
    "import tensorflow as tf\n",
    "\n",
    "saved_dir = \"model\"\n",
    "converter = tf.lite.TFLiteConverter.from_saved_model(saved_dir)\n",
    "converter.optimizations = [tf.lite.Optimize.DEFAULT]\n",
    "converter.target_spec.supported_types = [tf.float16]\n",
    "model_lite = converter.convert()\n",
    "\n",
    "with open(\"model.tflite\", \"wb\") as f:\n",
    "    f.write(model_lite)"
   ]
  },
  {
   "cell_type": "code",
   "execution_count": null,
   "id": "a20085ad-11f8-4df8-9d0c-072cf57b5254",
   "metadata": {},
   "outputs": [],
   "source": []
  }
 ],
 "metadata": {
  "kernelspec": {
   "display_name": "Python 3 (ipykernel)",
   "language": "python",
   "name": "python3"
  },
  "language_info": {
   "codemirror_mode": {
    "name": "ipython",
    "version": 3
   },
   "file_extension": ".py",
   "mimetype": "text/x-python",
   "name": "python",
   "nbconvert_exporter": "python",
   "pygments_lexer": "ipython3",
   "version": "3.10.0"
  }
 },
 "nbformat": 4,
 "nbformat_minor": 5
}
